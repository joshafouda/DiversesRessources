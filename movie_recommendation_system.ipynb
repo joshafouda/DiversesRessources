{
 "cells": [
  {
   "cell_type": "markdown",
   "metadata": {},
   "source": [
    "# <center> **CONSTRUCTION D'UNE APPLICATION DE SYSTEME DE RECOMMANDATIONS DE FILMS**"
   ]
  },
  {
   "cell_type": "markdown",
   "metadata": {},
   "source": [
    "## Objectif du Projet"
   ]
  },
  {
   "cell_type": "markdown",
   "metadata": {},
   "source": [
    "L'objectif de ce projet est de construire une application de système de recommandations de films. L'utilisateur de cette application renseigne les informations relatives à un film donné et l'application lui retourne les n films les plus similaires à ce film donné."
   ]
  },
  {
   "cell_type": "markdown",
   "metadata": {},
   "source": [
    "## Généralités sur les systèmes de recommandations"
   ]
  },
  {
   "cell_type": "markdown",
   "metadata": {},
   "source": [
    "### Qu'est-ce qu'un système de recommandation ?"
   ]
  },
  {
   "cell_type": "markdown",
   "metadata": {},
   "source": [
    "Un système de recommandation en intelligence artificielle (IA) est une application logicielle qui utilise des algorithmes pour analyser les préférences, le comportement et les habitudes d'un utilisateur afin de recommander des éléments pertinents. Ces éléments peuvent inclure des produits, des services, des contenus numériques, des connexions sociales, et bien d'autres choses en fonction du contexte d'utilisation.\n",
    "\n",
    "Les applications des systèmes de recommandation sont variées et s'étendent à divers domaines, notamment :\n",
    "\n",
    "1. **Commerce électronique :** Les systèmes de recommandation sont largement utilisés par les plateformes de commerce électronique pour recommander des produits aux clients en fonction de leurs historiques d'achats, de leurs recherches précédentes et des tendances générales.\n",
    "\n",
    "2. **Streaming de contenu :** Des plateformes de streaming vidéo, de musique et de lecture audio utilisent des systèmes de recommandation pour suggérer des films, des séries, des chansons ou des podcasts en fonction des préférences de l'utilisateur.\n",
    "\n",
    "3. **Réseaux sociaux :** Les médias sociaux utilisent des systèmes de recommandation pour suggérer des amis, des groupes ou des contenus qui pourraient intéresser un utilisateur en fonction de ses interactions passées.\n",
    "\n",
    "4. **Publicité en ligne :** Les annonces ciblées peuvent être optimisées en utilisant des systèmes de recommandation pour présenter des publicités qui correspondent aux intérêts et aux comportements en ligne d'un utilisateur.\n",
    "\n",
    "5. **Services de streaming de jeux :** Les plateformes de jeux vidéo peuvent recommander de nouveaux jeux ou du contenu en fonction des préférences de jeu passées d'un utilisateur.\n",
    "\n",
    "6. **Applications de voyage :** Les systèmes de recommandation peuvent être utilisés pour suggérer des destinations, des hébergements, des activités, etc., en fonction des préférences de voyage passées.\n",
    "\n",
    "Dans le contexte des entreprises, les systèmes de recommandation offrent plusieurs avantages :\n",
    "\n",
    "- **Personnalisation :** Les entreprises peuvent personnaliser l'expérience utilisateur en recommandant des produits ou services adaptés aux besoins spécifiques de chaque client.\n",
    "\n",
    "- **Amélioration de la rétention client :** En recommandant des éléments pertinents, les entreprises peuvent accroître l'engagement et la satisfaction des clients, favorisant ainsi la fidélité.\n",
    "\n",
    "- **Optimisation des ventes :** Les systèmes de recommandation peuvent contribuer à stimuler les ventes en présentant des offres attrayantes et en simplifiant le processus de décision d'achat.\n",
    "\n",
    "- **Analyse des données :** Les données collectées par les systèmes de recommandation peuvent être utilisées pour comprendre les tendances du marché, les comportements des clients et améliorer les stratégies commerciales.\n",
    "\n",
    "En résumé, les systèmes de recommandation en IA sont des outils puissants pour personnaliser l'expérience utilisateur, améliorer la satisfaction client et stimuler les activités commerciales dans divers secteurs."
   ]
  },
  {
   "cell_type": "markdown",
   "metadata": {},
   "source": [
    "### Cas des systèmes de recommandation de films comme Netflix"
   ]
  },
  {
   "cell_type": "markdown",
   "metadata": {},
   "source": [
    "Le système de recommandation de films de Netflix est un exemple emblématique de l'application réussie des systèmes de recommandation en intelligence artificielle. Netflix utilise un algorithme complexe pour analyser le comportement de visionnage des utilisateurs, les évaluations qu'ils attribuent aux films et séries, ainsi que d'autres données contextuelles. Voici quelques aspects clés du système de recommandation de films de Netflix :\n",
    "\n",
    "1. **Apprentissage automatique :** Netflix utilise des techniques d'apprentissage automatique pour entraîner ses algorithmes à comprendre les préférences individuelles des utilisateurs. Ces algorithmes évoluent constamment à mesure que de nouvelles données d'utilisation sont générées.\n",
    "\n",
    "2. **Collaborative Filtering :** Une technique couramment utilisée par Netflix est le filtrage collaboratif. Cela consiste à recommander des films en se basant sur les préférences d'utilisateurs similaires. Si deux utilisateurs ont des goûts similaires et ont aimé les mêmes films, le système peut recommander des films que l'un a appréciés à l'autre.\n",
    "\n",
    "3. **Filtrage basé sur le contenu :** En plus du filtrage collaboratif, Netflix utilise également le filtrage basé sur le contenu. Cela implique d'analyser les caractéristiques intrinsèques des films eux-mêmes (genre, acteurs, réalisateur, etc.) pour recommander des éléments similaires à ceux que l'utilisateur a déjà appréciés.\n",
    "\n",
    "4. **Analyse en temps réel :** Le système de Netflix analyse en temps réel le comportement de visionnage des utilisateurs. Il prend en compte les choix récents, les évaluations, les interruptions de visionnage et d'autres signaux pour affiner continuellement les recommandations.\n",
    "\n",
    "5. **Catégories personnalisées :** Netflix utilise des catégories personnalisées pour suggérer des genres spécifiques ou des recommandations basées sur des thèmes spécifiques, ce qui permet de diversifier les recommandations tout en les rendant pertinentes pour chaque utilisateur.\n",
    "\n",
    "L'objectif ultime de ces systèmes est d'accroître la satisfaction des utilisateurs en leur proposant des contenus qui correspondent à leurs goûts individuels. Cela aide Netflix à retenir ses abonnés, à les encourager à explorer de nouveaux contenus et à augmenter le temps passé sur la plateforme.\n",
    "\n",
    "Cependant, il est important de noter que les détails précis des algorithmes de recommandation de Netflix sont gardés confidentiels, car ils représentent une partie essentielle de la propriété intellectuelle de l'entreprise."
   ]
  },
  {
   "cell_type": "markdown",
   "metadata": {},
   "source": [
    "Dans ce projet, vous apprendrez à construire un système simple de recommandation de films basé sur la technique de la \"*cosine similarity*\" (similarité cosinus)."
   ]
  },
  {
   "cell_type": "markdown",
   "metadata": {},
   "source": [
    "### Cosine Similarity"
   ]
  },
  {
   "cell_type": "markdown",
   "metadata": {},
   "source": [
    "La technique de la \"cosine similarity\" (similarité cosinus) est une méthode couramment utilisée dans le domaine de la recommandation de films et d'autres systèmes de recommandation. Elle est particulièrement populaire dans le contexte du filtrage collaboratif. La similarité cosinus mesure l'angle entre deux vecteurs dans un espace multidimensionnel, et elle est souvent utilisée pour évaluer la similarité entre des utilisateurs ou des articles.\n",
    "\n",
    "Voici une explication simple de la \"cosine similarity\" :\n",
    "\n",
    "1. **Représentation vectorielle :** Chaque utilisateur et chaque film sont représentés comme des vecteurs dans un espace multidimensionnel. Chaque dimension correspond à une caractéristique particulière (par exemple, le genre du film, l'année de sortie, etc.).\n",
    "\n",
    "2. **Calcul des similarités :** La similarité cosinus mesure l'angle entre deux vecteurs. Plus l'angle est petit, plus les vecteurs sont similaires. La formule de la similarité cosinus entre deux vecteurs \\(A\\) et \\(B\\) est donnée par la formule suivante :\n",
    "\n",
    "![image info](../imgs/img1.png)"
   ]
  },
  {
   "cell_type": "markdown",
   "metadata": {},
   "source": [
    "La similarité cosinus renvoie une valeur comprise entre -1 et 1, où 1 indique une similarité totale, 0 une absence de similarité, et -1 une dissimilarité totale.\n",
    "\n",
    "3. **Application à la recommandation de films :** Une fois que les utilisateurs et les films sont représentés comme des vecteurs, la similarité cosinus peut être utilisée pour mesurer la similarité entre les préférences d'un utilisateur et les caractéristiques d'un film. Plus la similarité cosinus entre l'utilisateur et le film est élevée, plus il est probable que l'utilisateur apprécie ce film.\n",
    "\n",
    "4. **Recommandation :** Pour recommander des films à un utilisateur donné, le système peut calculer la similarité cosinus entre le vecteur représentant l'utilisateur et les vecteurs représentant les films non visionnés. Les films avec les valeurs de similarité les plus élevées sont alors recommandés à l'utilisateur.\n",
    "\n",
    "Cette approche simple de la \"cosine similarity\" offre une méthode intuitive pour évaluer la similarité entre utilisateurs et articles dans un espace multidimensionnel, facilitant ainsi la recommandation de films basée sur les préférences passées des utilisateurs."
   ]
  },
  {
   "cell_type": "markdown",
   "metadata": {},
   "source": [
    "## Implémentation technique du projet"
   ]
  },
  {
   "cell_type": "code",
   "execution_count": 1,
   "metadata": {},
   "outputs": [],
   "source": [
    "import pandas as pd"
   ]
  },
  {
   "cell_type": "code",
   "execution_count": 2,
   "metadata": {},
   "outputs": [
    {
     "data": {
      "text/html": [
       "<div>\n",
       "<style scoped>\n",
       "    .dataframe tbody tr th:only-of-type {\n",
       "        vertical-align: middle;\n",
       "    }\n",
       "\n",
       "    .dataframe tbody tr th {\n",
       "        vertical-align: top;\n",
       "    }\n",
       "\n",
       "    .dataframe thead th {\n",
       "        text-align: right;\n",
       "    }\n",
       "</style>\n",
       "<table border=\"1\" class=\"dataframe\">\n",
       "  <thead>\n",
       "    <tr style=\"text-align: right;\">\n",
       "      <th></th>\n",
       "      <th>name</th>\n",
       "      <th>rating</th>\n",
       "      <th>genre</th>\n",
       "      <th>year</th>\n",
       "      <th>released</th>\n",
       "      <th>score</th>\n",
       "      <th>votes</th>\n",
       "      <th>director</th>\n",
       "      <th>writer</th>\n",
       "      <th>star</th>\n",
       "      <th>country</th>\n",
       "      <th>budget</th>\n",
       "      <th>gross</th>\n",
       "      <th>company</th>\n",
       "      <th>runtime</th>\n",
       "    </tr>\n",
       "  </thead>\n",
       "  <tbody>\n",
       "    <tr>\n",
       "      <th>0</th>\n",
       "      <td>The Shining</td>\n",
       "      <td>R</td>\n",
       "      <td>Drama</td>\n",
       "      <td>1980</td>\n",
       "      <td>June 13, 1980 (United States)</td>\n",
       "      <td>8.4</td>\n",
       "      <td>927000.0</td>\n",
       "      <td>Stanley Kubrick</td>\n",
       "      <td>Stephen King</td>\n",
       "      <td>Jack Nicholson</td>\n",
       "      <td>United Kingdom</td>\n",
       "      <td>19000000.0</td>\n",
       "      <td>46998772.0</td>\n",
       "      <td>Warner Bros.</td>\n",
       "      <td>146.0</td>\n",
       "    </tr>\n",
       "    <tr>\n",
       "      <th>1</th>\n",
       "      <td>The Blue Lagoon</td>\n",
       "      <td>R</td>\n",
       "      <td>Adventure</td>\n",
       "      <td>1980</td>\n",
       "      <td>July 2, 1980 (United States)</td>\n",
       "      <td>5.8</td>\n",
       "      <td>65000.0</td>\n",
       "      <td>Randal Kleiser</td>\n",
       "      <td>Henry De Vere Stacpoole</td>\n",
       "      <td>Brooke Shields</td>\n",
       "      <td>United States</td>\n",
       "      <td>4500000.0</td>\n",
       "      <td>58853106.0</td>\n",
       "      <td>Columbia Pictures</td>\n",
       "      <td>104.0</td>\n",
       "    </tr>\n",
       "    <tr>\n",
       "      <th>2</th>\n",
       "      <td>Star Wars: Episode V - The Empire Strikes Back</td>\n",
       "      <td>PG</td>\n",
       "      <td>Action</td>\n",
       "      <td>1980</td>\n",
       "      <td>June 20, 1980 (United States)</td>\n",
       "      <td>8.7</td>\n",
       "      <td>1200000.0</td>\n",
       "      <td>Irvin Kershner</td>\n",
       "      <td>Leigh Brackett</td>\n",
       "      <td>Mark Hamill</td>\n",
       "      <td>United States</td>\n",
       "      <td>18000000.0</td>\n",
       "      <td>538375067.0</td>\n",
       "      <td>Lucasfilm</td>\n",
       "      <td>124.0</td>\n",
       "    </tr>\n",
       "    <tr>\n",
       "      <th>3</th>\n",
       "      <td>Airplane!</td>\n",
       "      <td>PG</td>\n",
       "      <td>Comedy</td>\n",
       "      <td>1980</td>\n",
       "      <td>July 2, 1980 (United States)</td>\n",
       "      <td>7.7</td>\n",
       "      <td>221000.0</td>\n",
       "      <td>Jim Abrahams</td>\n",
       "      <td>Jim Abrahams</td>\n",
       "      <td>Robert Hays</td>\n",
       "      <td>United States</td>\n",
       "      <td>3500000.0</td>\n",
       "      <td>83453539.0</td>\n",
       "      <td>Paramount Pictures</td>\n",
       "      <td>88.0</td>\n",
       "    </tr>\n",
       "    <tr>\n",
       "      <th>4</th>\n",
       "      <td>Caddyshack</td>\n",
       "      <td>R</td>\n",
       "      <td>Comedy</td>\n",
       "      <td>1980</td>\n",
       "      <td>July 25, 1980 (United States)</td>\n",
       "      <td>7.3</td>\n",
       "      <td>108000.0</td>\n",
       "      <td>Harold Ramis</td>\n",
       "      <td>Brian Doyle-Murray</td>\n",
       "      <td>Chevy Chase</td>\n",
       "      <td>United States</td>\n",
       "      <td>6000000.0</td>\n",
       "      <td>39846344.0</td>\n",
       "      <td>Orion Pictures</td>\n",
       "      <td>98.0</td>\n",
       "    </tr>\n",
       "  </tbody>\n",
       "</table>\n",
       "</div>"
      ],
      "text/plain": [
       "                                             name rating      genre  year  \\\n",
       "0                                     The Shining      R      Drama  1980   \n",
       "1                                 The Blue Lagoon      R  Adventure  1980   \n",
       "2  Star Wars: Episode V - The Empire Strikes Back     PG     Action  1980   \n",
       "3                                       Airplane!     PG     Comedy  1980   \n",
       "4                                      Caddyshack      R     Comedy  1980   \n",
       "\n",
       "                        released  score      votes         director  \\\n",
       "0  June 13, 1980 (United States)    8.4   927000.0  Stanley Kubrick   \n",
       "1   July 2, 1980 (United States)    5.8    65000.0   Randal Kleiser   \n",
       "2  June 20, 1980 (United States)    8.7  1200000.0   Irvin Kershner   \n",
       "3   July 2, 1980 (United States)    7.7   221000.0     Jim Abrahams   \n",
       "4  July 25, 1980 (United States)    7.3   108000.0     Harold Ramis   \n",
       "\n",
       "                    writer            star         country      budget  \\\n",
       "0             Stephen King  Jack Nicholson  United Kingdom  19000000.0   \n",
       "1  Henry De Vere Stacpoole  Brooke Shields   United States   4500000.0   \n",
       "2           Leigh Brackett     Mark Hamill   United States  18000000.0   \n",
       "3             Jim Abrahams     Robert Hays   United States   3500000.0   \n",
       "4       Brian Doyle-Murray     Chevy Chase   United States   6000000.0   \n",
       "\n",
       "         gross             company  runtime  \n",
       "0   46998772.0        Warner Bros.    146.0  \n",
       "1   58853106.0   Columbia Pictures    104.0  \n",
       "2  538375067.0           Lucasfilm    124.0  \n",
       "3   83453539.0  Paramount Pictures     88.0  \n",
       "4   39846344.0      Orion Pictures     98.0  "
      ]
     },
     "execution_count": 2,
     "metadata": {},
     "output_type": "execute_result"
    }
   ],
   "source": [
    "df = pd.read_csv('movies.csv')\n",
    "df.head()"
   ]
  },
  {
   "cell_type": "code",
   "execution_count": 3,
   "metadata": {},
   "outputs": [
    {
     "name": "stdout",
     "output_type": "stream",
     "text": [
      "<class 'pandas.core.frame.DataFrame'>\n",
      "RangeIndex: 7668 entries, 0 to 7667\n",
      "Data columns (total 15 columns):\n",
      " #   Column    Non-Null Count  Dtype  \n",
      "---  ------    --------------  -----  \n",
      " 0   name      7668 non-null   object \n",
      " 1   rating    7591 non-null   object \n",
      " 2   genre     7668 non-null   object \n",
      " 3   year      7668 non-null   int64  \n",
      " 4   released  7666 non-null   object \n",
      " 5   score     7665 non-null   float64\n",
      " 6   votes     7665 non-null   float64\n",
      " 7   director  7668 non-null   object \n",
      " 8   writer    7665 non-null   object \n",
      " 9   star      7667 non-null   object \n",
      " 10  country   7665 non-null   object \n",
      " 11  budget    5497 non-null   float64\n",
      " 12  gross     7479 non-null   float64\n",
      " 13  company   7651 non-null   object \n",
      " 14  runtime   7664 non-null   float64\n",
      "dtypes: float64(5), int64(1), object(9)\n",
      "memory usage: 898.7+ KB\n"
     ]
    }
   ],
   "source": [
    "df.info()"
   ]
  },
  {
   "cell_type": "markdown",
   "metadata": {},
   "source": [
    "## Nettoyage et Feature Engineering"
   ]
  },
  {
   "cell_type": "code",
   "execution_count": 4,
   "metadata": {},
   "outputs": [
    {
     "data": {
      "text/plain": [
       "name           0\n",
       "rating        77\n",
       "genre          0\n",
       "year           0\n",
       "released       2\n",
       "score          3\n",
       "votes          3\n",
       "director       0\n",
       "writer         3\n",
       "star           1\n",
       "country        3\n",
       "budget      2171\n",
       "gross        189\n",
       "company       17\n",
       "runtime        4\n",
       "dtype: int64"
      ]
     },
     "execution_count": 4,
     "metadata": {},
     "output_type": "execute_result"
    }
   ],
   "source": [
    "df.isna().sum()"
   ]
  },
  {
   "cell_type": "markdown",
   "metadata": {},
   "source": [
    "Supprimons simplement les lignes avec des valeurs manquantes :"
   ]
  },
  {
   "cell_type": "code",
   "execution_count": 5,
   "metadata": {},
   "outputs": [],
   "source": [
    "df.dropna(inplace=True)"
   ]
  },
  {
   "cell_type": "code",
   "execution_count": 6,
   "metadata": {},
   "outputs": [
    {
     "data": {
      "text/plain": [
       "name        0\n",
       "rating      0\n",
       "genre       0\n",
       "year        0\n",
       "released    0\n",
       "score       0\n",
       "votes       0\n",
       "director    0\n",
       "writer      0\n",
       "star        0\n",
       "country     0\n",
       "budget      0\n",
       "gross       0\n",
       "company     0\n",
       "runtime     0\n",
       "dtype: int64"
      ]
     },
     "execution_count": 6,
     "metadata": {},
     "output_type": "execute_result"
    }
   ],
   "source": [
    "df.isna().sum()"
   ]
  },
  {
   "cell_type": "code",
   "execution_count": 7,
   "metadata": {},
   "outputs": [
    {
     "data": {
      "text/plain": [
       "(5421, 15)"
      ]
     },
     "execution_count": 7,
     "metadata": {},
     "output_type": "execute_result"
    }
   ],
   "source": [
    "df.shape"
   ]
  },
  {
   "cell_type": "markdown",
   "metadata": {},
   "source": [
    "Feature engineering de la colonne released :"
   ]
  },
  {
   "cell_type": "code",
   "execution_count": 8,
   "metadata": {},
   "outputs": [
    {
     "data": {
      "text/html": [
       "<div>\n",
       "<style scoped>\n",
       "    .dataframe tbody tr th:only-of-type {\n",
       "        vertical-align: middle;\n",
       "    }\n",
       "\n",
       "    .dataframe tbody tr th {\n",
       "        vertical-align: top;\n",
       "    }\n",
       "\n",
       "    .dataframe thead th {\n",
       "        text-align: right;\n",
       "    }\n",
       "</style>\n",
       "<table border=\"1\" class=\"dataframe\">\n",
       "  <thead>\n",
       "    <tr style=\"text-align: right;\">\n",
       "      <th></th>\n",
       "      <th>released</th>\n",
       "      <th>date_of_release</th>\n",
       "      <th>country_of_release</th>\n",
       "    </tr>\n",
       "  </thead>\n",
       "  <tbody>\n",
       "    <tr>\n",
       "      <th>0</th>\n",
       "      <td>June 13, 1980 (United States)</td>\n",
       "      <td>June 13, 1980</td>\n",
       "      <td>United States</td>\n",
       "    </tr>\n",
       "    <tr>\n",
       "      <th>1</th>\n",
       "      <td>July 2, 1980 (United States)</td>\n",
       "      <td>July 2, 1980</td>\n",
       "      <td>United States</td>\n",
       "    </tr>\n",
       "    <tr>\n",
       "      <th>2</th>\n",
       "      <td>June 20, 1980 (United States)</td>\n",
       "      <td>June 20, 1980</td>\n",
       "      <td>United States</td>\n",
       "    </tr>\n",
       "    <tr>\n",
       "      <th>3</th>\n",
       "      <td>July 2, 1980 (United States)</td>\n",
       "      <td>July 2, 1980</td>\n",
       "      <td>United States</td>\n",
       "    </tr>\n",
       "    <tr>\n",
       "      <th>4</th>\n",
       "      <td>July 25, 1980 (United States)</td>\n",
       "      <td>July 25, 1980</td>\n",
       "      <td>United States</td>\n",
       "    </tr>\n",
       "  </tbody>\n",
       "</table>\n",
       "</div>"
      ],
      "text/plain": [
       "                        released date_of_release country_of_release\n",
       "0  June 13, 1980 (United States)   June 13, 1980      United States\n",
       "1   July 2, 1980 (United States)    July 2, 1980      United States\n",
       "2  June 20, 1980 (United States)   June 20, 1980      United States\n",
       "3   July 2, 1980 (United States)    July 2, 1980      United States\n",
       "4  July 25, 1980 (United States)   July 25, 1980      United States"
      ]
     },
     "execution_count": 8,
     "metadata": {},
     "output_type": "execute_result"
    }
   ],
   "source": [
    "# Créer les nouvelles colonnes avec une expression régulière\n",
    "df[['date_of_release', 'country_of_release']] = df['released'].str.extract(r'(\\w+ \\d+, \\d+) \\(([^)]+)\\)')\n",
    "\n",
    "# Afficher le résultat\n",
    "df[['released', 'date_of_release', 'country_of_release']].head()\n"
   ]
  },
  {
   "cell_type": "code",
   "execution_count": 9,
   "metadata": {},
   "outputs": [
    {
     "data": {
      "text/plain": [
       "released              object\n",
       "date_of_release       object\n",
       "country_of_release    object\n",
       "dtype: object"
      ]
     },
     "execution_count": 9,
     "metadata": {},
     "output_type": "execute_result"
    }
   ],
   "source": [
    "df[['released', 'date_of_release', 'country_of_release']].dtypes"
   ]
  },
  {
   "cell_type": "code",
   "execution_count": 10,
   "metadata": {},
   "outputs": [],
   "source": [
    "# Supprimer les colonnes 'released' et 'date_of_release'\n",
    "df.drop(['released', 'date_of_release'], axis=1, inplace=True)"
   ]
  },
  {
   "cell_type": "code",
   "execution_count": 11,
   "metadata": {},
   "outputs": [
    {
     "data": {
      "text/plain": [
       "name                   0\n",
       "rating                 0\n",
       "genre                  0\n",
       "year                   0\n",
       "score                  0\n",
       "votes                  0\n",
       "director               0\n",
       "writer                 0\n",
       "star                   0\n",
       "country                0\n",
       "budget                 0\n",
       "gross                  0\n",
       "company                0\n",
       "runtime                0\n",
       "country_of_release    14\n",
       "dtype: int64"
      ]
     },
     "execution_count": 11,
     "metadata": {},
     "output_type": "execute_result"
    }
   ],
   "source": [
    "df.isna().sum()"
   ]
  },
  {
   "cell_type": "code",
   "execution_count": 12,
   "metadata": {},
   "outputs": [],
   "source": [
    "df.dropna(inplace=True)"
   ]
  },
  {
   "cell_type": "code",
   "execution_count": 13,
   "metadata": {},
   "outputs": [
    {
     "data": {
      "text/plain": [
       "(5407, 15)"
      ]
     },
     "execution_count": 13,
     "metadata": {},
     "output_type": "execute_result"
    }
   ],
   "source": [
    "df.shape"
   ]
  },
  {
   "cell_type": "markdown",
   "metadata": {},
   "source": [
    "Vous pouvez utiliser toutes les colonnes de la dataframe pour créer une application de système web de recommandation de films. Mais gardez à l'esprit que les utilisateurs de vette application n'auront pas forcément certaines informations comme le budget du film, le score, les votes, etc.\n",
    "\n",
    "Dans ce projet, nous utiliserons donc uniquement les colonnes qui décrivent les films et qui peuvent être renseignées facilement par les utilsateurs de notre application."
   ]
  },
  {
   "cell_type": "code",
   "execution_count": 14,
   "metadata": {},
   "outputs": [],
   "source": [
    "# Choix de colonnes \n",
    "df = df[[\n",
    "    'name',\n",
    "    'genre',\n",
    "    'year',\n",
    "    'director',\n",
    "    'writer',\n",
    "    'star',\n",
    "    'company',\n",
    "    'country_of_release',\n",
    "]]"
   ]
  },
  {
   "cell_type": "code",
   "execution_count": 15,
   "metadata": {},
   "outputs": [
    {
     "data": {
      "text/plain": [
       "name                  object\n",
       "genre                 object\n",
       "year                  object\n",
       "director              object\n",
       "writer                object\n",
       "star                  object\n",
       "company               object\n",
       "country_of_release    object\n",
       "dtype: object"
      ]
     },
     "execution_count": 15,
     "metadata": {},
     "output_type": "execute_result"
    }
   ],
   "source": [
    "df['year'] = df['year'].astype('str')\n",
    "df.dtypes"
   ]
  },
  {
   "cell_type": "markdown",
   "metadata": {},
   "source": [
    "Création de la colonne \"cat_features\" qui combine tous les mots de toutes les autres colonnes :"
   ]
  },
  {
   "cell_type": "code",
   "execution_count": 16,
   "metadata": {},
   "outputs": [
    {
     "data": {
      "text/html": [
       "<div>\n",
       "<style scoped>\n",
       "    .dataframe tbody tr th:only-of-type {\n",
       "        vertical-align: middle;\n",
       "    }\n",
       "\n",
       "    .dataframe tbody tr th {\n",
       "        vertical-align: top;\n",
       "    }\n",
       "\n",
       "    .dataframe thead th {\n",
       "        text-align: right;\n",
       "    }\n",
       "</style>\n",
       "<table border=\"1\" class=\"dataframe\">\n",
       "  <thead>\n",
       "    <tr style=\"text-align: right;\">\n",
       "      <th></th>\n",
       "      <th>name</th>\n",
       "      <th>genre</th>\n",
       "      <th>year</th>\n",
       "      <th>director</th>\n",
       "      <th>writer</th>\n",
       "      <th>star</th>\n",
       "      <th>company</th>\n",
       "      <th>country_of_release</th>\n",
       "      <th>cat_features</th>\n",
       "    </tr>\n",
       "  </thead>\n",
       "  <tbody>\n",
       "    <tr>\n",
       "      <th>0</th>\n",
       "      <td>The Shining</td>\n",
       "      <td>Drama</td>\n",
       "      <td>1980</td>\n",
       "      <td>Stanley Kubrick</td>\n",
       "      <td>Stephen King</td>\n",
       "      <td>Jack Nicholson</td>\n",
       "      <td>Warner Bros.</td>\n",
       "      <td>United States</td>\n",
       "      <td>The Shining Drama 1980 Stanley Kubrick Stephen...</td>\n",
       "    </tr>\n",
       "    <tr>\n",
       "      <th>1</th>\n",
       "      <td>The Blue Lagoon</td>\n",
       "      <td>Adventure</td>\n",
       "      <td>1980</td>\n",
       "      <td>Randal Kleiser</td>\n",
       "      <td>Henry De Vere Stacpoole</td>\n",
       "      <td>Brooke Shields</td>\n",
       "      <td>Columbia Pictures</td>\n",
       "      <td>United States</td>\n",
       "      <td>The Blue Lagoon Adventure 1980 Randal Kleiser ...</td>\n",
       "    </tr>\n",
       "    <tr>\n",
       "      <th>2</th>\n",
       "      <td>Star Wars: Episode V - The Empire Strikes Back</td>\n",
       "      <td>Action</td>\n",
       "      <td>1980</td>\n",
       "      <td>Irvin Kershner</td>\n",
       "      <td>Leigh Brackett</td>\n",
       "      <td>Mark Hamill</td>\n",
       "      <td>Lucasfilm</td>\n",
       "      <td>United States</td>\n",
       "      <td>Star Wars: Episode V - The Empire Strikes Back...</td>\n",
       "    </tr>\n",
       "    <tr>\n",
       "      <th>3</th>\n",
       "      <td>Airplane!</td>\n",
       "      <td>Comedy</td>\n",
       "      <td>1980</td>\n",
       "      <td>Jim Abrahams</td>\n",
       "      <td>Jim Abrahams</td>\n",
       "      <td>Robert Hays</td>\n",
       "      <td>Paramount Pictures</td>\n",
       "      <td>United States</td>\n",
       "      <td>Airplane! Comedy 1980 Jim Abrahams Jim Abraham...</td>\n",
       "    </tr>\n",
       "    <tr>\n",
       "      <th>4</th>\n",
       "      <td>Caddyshack</td>\n",
       "      <td>Comedy</td>\n",
       "      <td>1980</td>\n",
       "      <td>Harold Ramis</td>\n",
       "      <td>Brian Doyle-Murray</td>\n",
       "      <td>Chevy Chase</td>\n",
       "      <td>Orion Pictures</td>\n",
       "      <td>United States</td>\n",
       "      <td>Caddyshack Comedy 1980 Harold Ramis Brian Doyl...</td>\n",
       "    </tr>\n",
       "  </tbody>\n",
       "</table>\n",
       "</div>"
      ],
      "text/plain": [
       "                                             name      genre  year  \\\n",
       "0                                     The Shining      Drama  1980   \n",
       "1                                 The Blue Lagoon  Adventure  1980   \n",
       "2  Star Wars: Episode V - The Empire Strikes Back     Action  1980   \n",
       "3                                       Airplane!     Comedy  1980   \n",
       "4                                      Caddyshack     Comedy  1980   \n",
       "\n",
       "          director                   writer            star  \\\n",
       "0  Stanley Kubrick             Stephen King  Jack Nicholson   \n",
       "1   Randal Kleiser  Henry De Vere Stacpoole  Brooke Shields   \n",
       "2   Irvin Kershner           Leigh Brackett     Mark Hamill   \n",
       "3     Jim Abrahams             Jim Abrahams     Robert Hays   \n",
       "4     Harold Ramis       Brian Doyle-Murray     Chevy Chase   \n",
       "\n",
       "              company country_of_release  \\\n",
       "0        Warner Bros.      United States   \n",
       "1   Columbia Pictures      United States   \n",
       "2           Lucasfilm      United States   \n",
       "3  Paramount Pictures      United States   \n",
       "4      Orion Pictures      United States   \n",
       "\n",
       "                                        cat_features  \n",
       "0  The Shining Drama 1980 Stanley Kubrick Stephen...  \n",
       "1  The Blue Lagoon Adventure 1980 Randal Kleiser ...  \n",
       "2  Star Wars: Episode V - The Empire Strikes Back...  \n",
       "3  Airplane! Comedy 1980 Jim Abrahams Jim Abraham...  \n",
       "4  Caddyshack Comedy 1980 Harold Ramis Brian Doyl...  "
      ]
     },
     "execution_count": 16,
     "metadata": {},
     "output_type": "execute_result"
    }
   ],
   "source": [
    "'''\n",
    "df['cat_features'] = df['name'] + ' ' + df['genre'] + ' ' + df['year'] + \\\n",
    "                     ' ' + df['director'] + ' ' + df['writer'] + ' ' + \\\n",
    "                     df['star'] + ' ' + df['company'] + ' ' + df['country_of_release']\n",
    "'''\n",
    "\n",
    "df['cat_features'] = df[df.columns].apply(lambda x: ' '.join(x), axis=1)\n",
    "\n",
    "df.head()"
   ]
  },
  {
   "cell_type": "code",
   "execution_count": 17,
   "metadata": {},
   "outputs": [
    {
     "data": {
      "text/plain": [
       "(5407, 434)"
      ]
     },
     "execution_count": 17,
     "metadata": {},
     "output_type": "execute_result"
    }
   ],
   "source": [
    "# Vectorisation de la colonne \"cat_features\"\n",
    "from sklearn.feature_extraction.text import CountVectorizer\n",
    "\n",
    "vectorizer = CountVectorizer(stop_words='english', min_df=20)\n",
    "word_matrix = vectorizer.fit_transform(df['cat_features'])\n",
    "word_matrix.shape"
   ]
  },
  {
   "cell_type": "code",
   "execution_count": 18,
   "metadata": {},
   "outputs": [
    {
     "data": {
      "text/plain": [
       "scipy.sparse._csr.csr_matrix"
      ]
     },
     "execution_count": 18,
     "metadata": {},
     "output_type": "execute_result"
    }
   ],
   "source": [
    "type(word_matrix)"
   ]
  },
  {
   "cell_type": "markdown",
   "metadata": {},
   "source": [
    "Le tableau du nombre de mots contient 5407 lignes (une pour chaque film) et 434 colonnes. Voici une explication détaillée du code :"
   ]
  },
  {
   "cell_type": "markdown",
   "metadata": {},
   "source": [
    "Ce code utilise la bibliothèque scikit-learn (`sklearn`) pour effectuer une vectorisation de texte en utilisant la classe `CountVectorizer`. La vectorisation de texte consiste à représenter le texte sous forme de vecteurs numériques, ce qui est souvent nécessaire lorsqu'on travaille avec des modèles d'apprentissage automatique.\n",
    "\n",
    "Voici une explication du code :\n",
    "\n",
    "1. **Importation de la classe `CountVectorizer` :**\n",
    "   ```python\n",
    "   from sklearn.feature_extraction.text import CountVectorizer\n",
    "   ```\n",
    "   Cette ligne importe la classe `CountVectorizer` de la bibliothèque scikit-learn. `CountVectorizer` est utilisé pour convertir une collection de textes en une matrice de comptage des termes (chaque terme étant un mot) présents dans ces textes.\n",
    "\n",
    "2. **Création d'une instance de `CountVectorizer` :**\n",
    "   ```python\n",
    "   vectorizer = CountVectorizer(stop_words='english', min_df=20)\n",
    "   ```\n",
    "   On crée une instance de la classe `CountVectorizer`. Les paramètres spécifiés sont :\n",
    "   - `stop_words='english'` : Cela indique au vectoriseur d'ignorer les mots fréquents en anglais qui ne portent généralement pas beaucoup d'informations (comme \"the\", \"and\", \"is\", etc.).\n",
    "   - `min_df=20` : Ce paramètre spécifie que le terme doit apparaître dans au moins 20 documents (ou lignes) pour être inclus dans la matrice. Cela permet de filtrer les termes peu fréquents.\n",
    "\n",
    "3. **Transformation du texte en une matrice de comptage :**\n",
    "   ```python\n",
    "   word_matrix = vectorizer.fit_transform(df['cat_features'])\n",
    "   ```\n",
    "   On utilise la méthode `fit_transform` pour transformer la colonne `cat_features` du DataFrame `df` en une matrice de comptage. Chaque ligne de la matrice représente un document (dans ce cas, un élément de la colonne `cat_features`), et chaque colonne représente un terme unique.\n",
    "\n",
    "4. **Affichage de la forme de la matrice :**\n",
    "   ```python\n",
    "   word_matrix.shape\n",
    "   ```\n",
    "   Cette ligne affiche la forme de la matrice résultante (`word_matrix`). Cela donne le nombre de documents (lignes) et le nombre de termes uniques (colonnes) dans la matrice.\n",
    "\n",
    "En résumé, ce code utilise `CountVectorizer` pour transformer la colonne de texte `cat_features` en une matrice de comptage, en ignorant les mots fréquents en anglais et en filtrant les termes peu fréquents. La matrice résultante (`word_matrix`) peut ensuite être utilisée comme entrée pour des modèles d'apprentissage automatique."
   ]
  },
  {
   "cell_type": "markdown",
   "metadata": {},
   "source": [
    "**Explication sur l'argument `min_df`** :"
   ]
  },
  {
   "cell_type": "markdown",
   "metadata": {},
   "source": [
    "L'argument `min_df` (fréquence minimale documentaire) dans `CountVectorizer` est utilisé pour spécifier le nombre minimum de documents (ou lignes) dans lesquels un terme doit apparaître pour être inclus dans la matrice de comptage. En d'autres termes, les termes qui apparaissent dans moins de documents que la valeur spécifiée pour `min_df` seront ignorés lors de la création de la matrice de comptage.\n",
    "\n",
    "L'impact de `min_df` sur le résultat de la vectorisation est lié à la façon dont il filtre les termes peu fréquents. Voici comment il influence le processus de vectorisation :\n",
    "\n",
    "1. **Termes peu fréquents :** Lorsqu'on travaille avec des jeux de données textuelles, il est courant que de nombreux termes apparaissent seulement dans quelques documents. Certains de ces termes peuvent être des mots spécifiques à certains documents, des fautes de frappe, ou d'autres termes peu représentatifs de l'ensemble du corpus.\n",
    "\n",
    "2. **Filtrage des termes peu fréquents :** En spécifiant une valeur pour `min_df`, on filtre les termes qui n'apparaissent pas dans un nombre minimal de documents. Cela permet de se débarrasser de termes rares qui pourraient ne pas contribuer de manière significative à la représentation générale du corpus.\n",
    "\n",
    "3. **Réduction de la dimensionnalité :** En éliminant les termes peu fréquents, la dimensionnalité de la matrice résultante est réduite, ce qui peut être bénéfique en termes de mémoire et de temps de calcul. Une matrice moins dense peut également aider à améliorer la performance des modèles d'apprentissage automatique en réduisant le bruit introduit par des termes peu fréquents.\n",
    "\n",
    "4. **Réduction du surajustement (overfitting) :** Lorsqu'on travaille avec des modèles d'apprentissage automatique, réduire le nombre de caractéristiques (termes dans ce contexte) peut aider à éviter le surajustement en éliminant des informations spécifiques au jeu de données d'entraînement qui pourraient ne pas généraliser correctement.\n",
    "\n",
    "Cependant, le choix de la valeur de `min_df` dépend du domaine spécifique, de la taille du corpus, et des objectifs de la tâche. Une valeur trop basse pourrait inclure des termes peu informatifs, tandis qu'une valeur trop élevée pourrait éliminer des termes utiles. Il est souvent recommandé de tester différentes valeurs de `min_df` et de surveiller l'impact sur les performances du modèle pour trouver la valeur optimale."
   ]
  },
  {
   "cell_type": "markdown",
   "metadata": {},
   "source": [
    "Pour plus d'informations sur les hyperparamètres de la classe `CountVectorizer` : https://scikit-learn.org/stable/modules/generated/sklearn.feature_extraction.text.CountVectorizer.html"
   ]
  },
  {
   "cell_type": "markdown",
   "metadata": {},
   "source": [
    "La tâche suivante consiste à calculer les similarités cosinus pour chaque paire de lignes :"
   ]
  },
  {
   "cell_type": "code",
   "execution_count": 19,
   "metadata": {},
   "outputs": [
    {
     "data": {
      "text/plain": [
       "numpy.ndarray"
      ]
     },
     "execution_count": 19,
     "metadata": {},
     "output_type": "execute_result"
    }
   ],
   "source": [
    "from sklearn.metrics.pairwise import cosine_similarity\n",
    " \n",
    "sim = cosine_similarity(word_matrix)\n",
    "type(sim)"
   ]
  },
  {
   "cell_type": "code",
   "execution_count": 24,
   "metadata": {},
   "outputs": [
    {
     "data": {
      "text/plain": [
       "array([[1.        , 0.3354102 , 0.35856858, ..., 0.38138504, 0.19069252,\n",
       "        0.31622777],\n",
       "       [0.3354102 , 1.        , 0.40089186, ..., 0.42640143, 0.31980107,\n",
       "        0.35355339],\n",
       "       [0.35856858, 0.40089186, 1.        , ..., 0.22792115, 0.22792115,\n",
       "        0.56694671],\n",
       "       ...,\n",
       "       [0.38138504, 0.42640143, 0.22792115, ..., 1.        , 0.27272727,\n",
       "        0.30151134],\n",
       "       [0.19069252, 0.31980107, 0.22792115, ..., 0.27272727, 1.        ,\n",
       "        0.30151134],\n",
       "       [0.31622777, 0.35355339, 0.56694671, ..., 0.30151134, 0.30151134,\n",
       "        1.        ]])"
      ]
     },
     "execution_count": 24,
     "metadata": {},
     "output_type": "execute_result"
    }
   ],
   "source": [
    "sim"
   ]
  },
  {
   "cell_type": "markdown",
   "metadata": {},
   "source": [
    "Ce code utilise la bibliothèque scikit-learn (`sklearn`) pour calculer la similarité cosinus entre les documents représentés par la matrice `word_matrix`. La similarité cosinus est une mesure de similarité entre deux vecteurs dans un espace vectoriel, souvent utilisée pour mesurer la similarité entre des documents dans le contexte de la vectorisation de texte.\n",
    "\n",
    "Voici une explication du code :\n",
    "\n",
    "1. **Importation de la fonction `cosine_similarity` :**\n",
    "   ```python\n",
    "   from sklearn.metrics.pairwise import cosine_similarity\n",
    "   ```\n",
    "   Cette ligne importe la fonction `cosine_similarity` de scikit-learn. Cette fonction calcule la similarité cosinus entre les paires de vecteurs.\n",
    "\n",
    "2. **Calcul de la similarité cosinus :**\n",
    "   ```python\n",
    "   sim = cosine_similarity(word_matrix)\n",
    "   ```\n",
    "   On utilise la fonction `cosine_similarity` pour calculer la similarité cosinus entre tous les documents représentés dans la matrice `word_matrix`. Le résultat, stocké dans la variable `sim`, est une matrice symétrique où l'élément à la position (i, j) représente la similarité cosinus entre le document i et le document j.\n",
    "\n",
    "   Notez que la diagonale principale de cette matrice contient des valeurs égales à 1, car la similarité cosinus d'un document avec lui-même est toujours égale à 1.\n",
    "\n",
    "3. **Interprétation de la matrice de similarité :**\n",
    "   La matrice de similarité `sim` peut être utilisée pour comprendre les relations de similarité entre les documents. Plus la valeur dans la matrice est proche de 1, plus les documents correspondants sont similaires, selon la mesure cosinus.\n",
    "\n",
    "   Vous pouvez utiliser cette matrice pour, par exemple, trouver les documents les plus similaires à un document donné, identifier des groupes de documents similaires, ou alimenter des systèmes de recommandation basés sur la similarité entre documents.\n",
    "\n",
    "En résumé, ce code calcule la similarité cosinus entre tous les documents représentés dans la matrice `word_matrix` et stocke les résultats dans une matrice appelée `sim`."
   ]
  },
  {
   "cell_type": "code",
   "execution_count": 20,
   "metadata": {},
   "outputs": [],
   "source": [
    "# Sauvegarde de la matrice de similarité précalculée\n",
    "import numpy as np\n",
    "np.save('similarity_matrix.npy', sim)"
   ]
  },
  {
   "cell_type": "markdown",
   "metadata": {},
   "source": [
    "Construisons une fonction qui prend comme arguments des informations relatifs à un film et retourne les n films les plus similaires à ce film :"
   ]
  },
  {
   "cell_type": "code",
   "execution_count": 21,
   "metadata": {},
   "outputs": [],
   "source": [
    "def get_recommendations(title, df, sim, count=10):\n",
    "    # Obtenir l'indice de ligne du titre spécifié dans le DataFrame\n",
    "    index = df.index[df['name'].str.lower() == title.lower()]\n",
    "    \n",
    "    # Retourner une liste vide s'il n'y a aucune entrée pour le titre spécifié\n",
    "    if len(index) == 0:\n",
    "        return []\n",
    "\n",
    "    # Vérifier si l'indice est dans les limites de la matrice de similarité\n",
    "    if index[0] >= len(sim):\n",
    "        return []\n",
    "\n",
    "    # Obtenir la ligne correspondante dans la matrice de similarité\n",
    "    similarities = list(enumerate(sim[index[0]]))\n",
    "    \n",
    "    # Trier les scores de similarité dans cette ligne par ordre décroissant\n",
    "    recommendations = sorted(similarities, key=lambda x: x[1], reverse=True)\n",
    "    \n",
    "    # Obtenir les n meilleures recommandations, en ignorant la première entrée de la liste car\n",
    "    # elle correspond au titre lui-même (et a donc une similarité de 1.0)\n",
    "    top_recs = recommendations[1:count + 1]\n",
    "\n",
    "    # Générer une liste de titres à partir des indices dans top_recs\n",
    "    titles = []\n",
    "\n",
    "    for i in range(len(top_recs)):\n",
    "        # Vérifier si l'indice est dans les limites du DataFrame\n",
    "        if top_recs[i][0] < len(df):\n",
    "            title = df.iloc[top_recs[i][0]]['name']\n",
    "            titles.append(title)\n",
    "\n",
    "    return titles\n"
   ]
  },
  {
   "cell_type": "code",
   "execution_count": 22,
   "metadata": {},
   "outputs": [
    {
     "data": {
      "text/plain": [
       "['Return to the Blue Lagoon',\n",
       " 'Old Gringo',\n",
       " 'The New Adventures of Pippi Longstocking',\n",
       " 'Fly Away Home',\n",
       " 'The Messenger: The Story of Joan of Arc']"
      ]
     },
     "execution_count": 22,
     "metadata": {},
     "output_type": "execute_result"
    }
   ],
   "source": [
    "# Application de la fonction #title=\"The Blue Lagoon\",\n",
    "get_recommendations(\n",
    "    title=\"The Blue Lagoon\",\n",
    "    df=df,\n",
    "    sim=sim,\n",
    "    count=5\n",
    ")"
   ]
  },
  {
   "cell_type": "markdown",
   "metadata": {},
   "source": [
    "La fonction `get_recommendations` prend en entrée le titre d'un film, un DataFrame `df`, une matrice de similarité `sim` et un paramètre optionnel `count` définissant le nombre de recommandations à retourner. Voici une explication détaillée de chaque étape de la fonction :\n",
    "\n",
    "**Explication détaillée** :\n",
    "\n",
    "1. **Recherche de l'indice du titre dans le DataFrame :**\n",
    "   ```python\n",
    "   index = df.index[df['name'].str.lower() == title.lower()]\n",
    "   ```\n",
    "   Cette ligne utilise la méthode `str.lower()` pour s'assurer que la comparaison n'est pas sensible à la casse. Elle recherche l'indice de la ligne correspondant au titre spécifié dans le DataFrame.\n",
    "\n",
    "2. **Vérification de l'existence du titre dans le DataFrame :**\n",
    "   ```python\n",
    "   if (len(index) == 0):\n",
    "       return []\n",
    "   ```\n",
    "   Si aucun indice n'est trouvé (c'est-à-dire si le titre n'existe pas dans le DataFrame), la fonction retourne une liste vide.\n",
    "\n",
    "3. **Récupération de la ligne correspondante dans la matrice de similarité :**\n",
    "   ```python\n",
    "   similarities = list(enumerate(sim[index[0]]))\n",
    "   ```\n",
    "   La fonction crée une liste de tuples `(index, similarity_score)` en utilisant la fonction `enumerate` pour obtenir l'indice correspondant dans la matrice de similarité.\n",
    "\n",
    "4. **Tri des scores de similarité par ordre décroissant :**\n",
    "   ```python\n",
    "   recommendations = sorted(similarities, key=lambda x: x[1], reverse=True)\n",
    "   ```\n",
    "   Les scores de similarité sont triés par ordre décroissant, plaçant les films les plus similaires en haut de la liste.\n",
    "\n",
    "5. **Sélection des meilleures recommandations (hors titre lui-même) :**\n",
    "   ```python\n",
    "   top_recs = recommendations[1:count + 1]\n",
    "   ```\n",
    "   Les `count` films les plus similaires sont sélectionnés à partir de la liste triée, en ignorant le premier élément qui correspond au titre lui-même (similarity_score de 1.0).\n",
    "\n",
    "6. **Génération de la liste des titres recommandés :**\n",
    "   ```python\n",
    "   titles = []\n",
    "   for i in range(len(top_recs)):\n",
    "       title = df.iloc[top_recs[i][0]]['name']\n",
    "       titles.append(title)\n",
    "   ```\n",
    "   La fonction parcourt les indices des films recommandés (`top_recs`), récupère les titres correspondants à partir du DataFrame original, et les ajoute à la liste `titles`.\n",
    "\n",
    "7. **Retour de la liste des titres recommandés :**\n",
    "   ```python\n",
    "   return titles\n",
    "   ```\n",
    "   La fonction retourne la liste des titres recommandés en fonction de la similarité avec le titre spécifié."
   ]
  },
  {
   "cell_type": "markdown",
   "metadata": {},
   "source": [
    "Il ne vous reste qu'à réer une interface utilisateur simple avec des champs de saisie et des listes déroulantes pour chaque argument de la fonction get_recommendations. Lorsque l'utilisateur clique sur un bouton, les recommandations sont calculées à l'aide de la fonction et affichées sur la page de l'application.\n",
    "\n",
    "Dans ce projet, nous utilserons Streamlit pour construire l'application web (Voir code dans \"pages/01_RecommendationSystem\")"
   ]
  },
  {
   "cell_type": "markdown",
   "metadata": {},
   "source": [
    "## Conclusion du Projet"
   ]
  },
  {
   "cell_type": "markdown",
   "metadata": {},
   "source": [
    "Conclusion du Projet :\n",
    "\n",
    "Le projet a consisté en la conception et la mise en œuvre d'un système de recommandation de films basé sur la similarité cosinus. Voici les points clés et les réalisations du projet :\n",
    "\n",
    "1. **Objectif du Projet :** L'objectif principal était de créer un système capable de recommander des films similaires en fonction des caractéristiques textuelles des films.\n",
    "\n",
    "2. **Utilisation de la Similarité Cosinus :** La similarité cosinus a été choisie comme métrique pour mesurer la similarité entre les films. C'est une mesure efficace pour évaluer la proximité entre des vecteurs de données textuelles.\n",
    "\n",
    "3. **Prétraitement des Données :** Les données du projet ont été prétraitées, notamment en nettoyant la colonne des dates de sortie, en construisant une colonne de caractéristiques textuelles concaténées, et en utilisant la technique de similarité cosinus sur ces caractéristiques.\n",
    "\n",
    "4. **Construction de la Matrice de Similarité :** Une matrice de similarité a été calculée à partir des caractéristiques textuelles des films, ce qui a servi de base pour la recommandation.\n",
    "\n",
    "5. **Fonction de Recommandation :** Une fonction `get_recommendations` a été développée pour fournir des recommandations de films en fonction d'un titre donné. La fonction utilise la matrice de similarité et le DataFrame des films.\n",
    "\n",
    "6. **Application Streamlit :** Une interface utilisateur simple a été créée en utilisant Streamlit, permettant à l'utilisateur de saisir les informations d'un film et de recevoir des recommandations en temps réel.\n",
    "\n",
    "7. **Gestion des Erreurs :** Des vérifications ont été ajoutées pour éviter les erreurs potentielles, notamment la vérification de l'existence du titre dans le DataFrame et la vérification des indices dans la matrice de similarité.\n",
    "\n",
    "8. **Documentation et Commentaires :** Le code a été commenté de manière appropriée pour assurer une compréhension claire du fonctionnement du système. La documentation des fonctions et des étapes importantes a été fournie.\n",
    "\n",
    "9. **Sauvegarde de la Matrice de Similarité :** Pour optimiser les performances, la matrice de similarité a été sauvegardée dans un fichier afin d'être réutilisée sans avoir besoin d'une nouvelle génération à chaque utilisation de l'application.\n",
    "\n",
    "10. **Perspectives d'Amélioration :** Le projet pourrait être étendu en ajoutant des fonctionnalités supplémentaires, telles que la prise en compte des évaluations utilisateur pour des recommandations plus personnalisées.\n",
    "\n",
    "En conclusion, ce projet a permis de mettre en œuvre avec succès un système de recommandation de films basé sur la similarité cosinus, offrant une expérience utilisateur interactive à travers une interface simple grâce à Streamlit. Ce projet fournit une base solide pour d'autres développements dans le domaine des systèmes de recommandation de contenu."
   ]
  }
 ],
 "metadata": {
  "kernelspec": {
   "display_name": ".venv",
   "language": "python",
   "name": "python3"
  },
  "language_info": {
   "codemirror_mode": {
    "name": "ipython",
    "version": 3
   },
   "file_extension": ".py",
   "mimetype": "text/x-python",
   "name": "python",
   "nbconvert_exporter": "python",
   "pygments_lexer": "ipython3",
   "version": "3.10.12"
  }
 },
 "nbformat": 4,
 "nbformat_minor": 2
}
